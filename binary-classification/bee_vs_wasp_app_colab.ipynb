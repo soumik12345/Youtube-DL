{
  "nbformat": 4,
  "nbformat_minor": 0,
  "metadata": {
    "colab": {
      "name": "bee-vs-wasp-app.ipynb",
      "provenance": [],
      "collapsed_sections": [],
      "authorship_tag": "ABX9TyPHSTU6DDRvnDaTQ9nE4fHM",
      "include_colab_link": true
    },
    "kernelspec": {
      "name": "python3",
      "display_name": "Python 3"
    },
    "accelerator": "GPU"
  },
  "cells": [
    {
      "cell_type": "markdown",
      "metadata": {
        "id": "view-in-github",
        "colab_type": "text"
      },
      "source": [
        "<a href=\"https://colab.research.google.com/github/soumik12345/Youtube-DL/blob/master/binary-classification/bee_vs_wasp_app_colab.ipynb\" target=\"_parent\"><img src=\"https://colab.research.google.com/assets/colab-badge.svg\" alt=\"Open In Colab\"/></a>"
      ]
    },
    {
      "cell_type": "code",
      "metadata": {
        "colab": {
          "base_uri": "https://localhost:8080/"
        },
        "id": "m6Vo6Bf4EpgB",
        "outputId": "b7a8b8f3-eed4-4c1d-b33f-5d189f05914b"
      },
      "source": [
        "# Checking GPU\n",
        "!nvidia-smi\n",
        "\n",
        "# Installing Dependencies for Google Colab\n",
        "!pip install streamlit -qq"
      ],
      "execution_count": 1,
      "outputs": [
        {
          "output_type": "stream",
          "text": [
            "Sun Jan  3 21:20:05 2021       \n",
            "+-----------------------------------------------------------------------------+\n",
            "| NVIDIA-SMI 460.27.04    Driver Version: 418.67       CUDA Version: 10.1     |\n",
            "|-------------------------------+----------------------+----------------------+\n",
            "| GPU  Name        Persistence-M| Bus-Id        Disp.A | Volatile Uncorr. ECC |\n",
            "| Fan  Temp  Perf  Pwr:Usage/Cap|         Memory-Usage | GPU-Util  Compute M. |\n",
            "|                               |                      |               MIG M. |\n",
            "|===============================+======================+======================|\n",
            "|   0  Tesla T4            Off  | 00000000:00:04.0 Off |                    0 |\n",
            "| N/A   32C    P8     9W /  70W |      0MiB / 15079MiB |      0%      Default |\n",
            "|                               |                      |                 ERR! |\n",
            "+-------------------------------+----------------------+----------------------+\n",
            "                                                                               \n",
            "+-----------------------------------------------------------------------------+\n",
            "| Processes:                                                                  |\n",
            "|  GPU   GI   CI        PID   Type   Process name                  GPU Memory |\n",
            "|        ID   ID                                                   Usage      |\n",
            "|=============================================================================|\n",
            "|  No running processes found                                                 |\n",
            "+-----------------------------------------------------------------------------+\n",
            "\u001b[K     |████████████████████████████████| 7.4MB 5.5MB/s \n",
            "\u001b[K     |████████████████████████████████| 163kB 39.6MB/s \n",
            "\u001b[K     |████████████████████████████████| 112kB 38.4MB/s \n",
            "\u001b[K     |████████████████████████████████| 4.5MB 41.5MB/s \n",
            "\u001b[K     |████████████████████████████████| 81kB 12.5MB/s \n",
            "\u001b[K     |████████████████████████████████| 71kB 9.3MB/s \n",
            "\u001b[K     |████████████████████████████████| 122kB 58.7MB/s \n",
            "\u001b[?25h  Building wheel for blinker (setup.py) ... \u001b[?25l\u001b[?25hdone\n",
            "\u001b[31mERROR: google-colab 1.0.0 has requirement ipykernel~=4.10, but you'll have ipykernel 5.4.2 which is incompatible.\u001b[0m\n"
          ],
          "name": "stdout"
        }
      ]
    },
    {
      "cell_type": "code",
      "metadata": {
        "colab": {
          "resources": {
            "http://localhost:8080/nbextensions/google.colab/files.js": {
              "data": "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",
              "ok": true,
              "headers": [
                [
                  "content-type",
                  "application/javascript"
                ]
              ],
              "status": 200,
              "status_text": ""
            }
          },
          "base_uri": "https://localhost:8080/",
          "height": 293
        },
        "id": "MVkNnY8WGbUW",
        "outputId": "91751b79-f44d-4125-9082-339eb7fabd97"
      },
      "source": [
        "print('Installing Kaggle...')\n",
        "!pip install -q kaggle\n",
        "print('Done!')\n",
        "\n",
        "print('Please upload kaggle.json: ')\n",
        "from google.colab import files\n",
        "files.upload()\n",
        "print('Done!')\n",
        "\n",
        "print('Placing kaggle.json in the right place...')\n",
        "!mkdir ~/.kaggle\n",
        "\n",
        "!cp kaggle.json ~/.kaggle/\n",
        "\n",
        "!chmod 600 ~/.kaggle/kaggle.json\n",
        "print('Done!')\n",
        "\n",
        "print('Dowloading dataset...')\n",
        "!kaggle datasets download -d jerzydziewierz/bee-vs-wasp\n",
        "print('Done!')\n",
        "\n",
        "print('Extracting Dataset...')\n",
        "!mkdir ./VOCdevkit\n",
        "!unzip -q bee-vs-wasp.zip\n",
        "!rm bee-vs-wasp.zip\n",
        "print('Done!')"
      ],
      "execution_count": 2,
      "outputs": [
        {
          "output_type": "stream",
          "text": [
            "Installing Kaggle...\n",
            "Done!\n",
            "Please upload kaggle.json: \n"
          ],
          "name": "stdout"
        },
        {
          "output_type": "display_data",
          "data": {
            "text/html": [
              "\n",
              "     <input type=\"file\" id=\"files-18d466c0-47a7-4fb2-9e1c-c9a88a67fb9a\" name=\"files[]\" multiple disabled\n",
              "        style=\"border:none\" />\n",
              "     <output id=\"result-18d466c0-47a7-4fb2-9e1c-c9a88a67fb9a\">\n",
              "      Upload widget is only available when the cell has been executed in the\n",
              "      current browser session. Please rerun this cell to enable.\n",
              "      </output>\n",
              "      <script src=\"/nbextensions/google.colab/files.js\"></script> "
            ],
            "text/plain": [
              "<IPython.core.display.HTML object>"
            ]
          },
          "metadata": {
            "tags": []
          }
        },
        {
          "output_type": "stream",
          "text": [
            "Saving kaggle.json to kaggle.json\n",
            "Done!\n",
            "Placing kaggle.json in the right place...\n",
            "Done!\n",
            "Dowloading dataset...\n",
            "Downloading bee-vs-wasp.zip to /content\n",
            " 96% 535M/559M [00:02<00:00, 245MB/s]\n",
            "100% 559M/559M [00:02<00:00, 221MB/s]\n",
            "Done!\n",
            "Extracting Dataset...\n",
            "Done!\n"
          ],
          "name": "stdout"
        }
      ]
    },
    {
      "cell_type": "code",
      "metadata": {
        "colab": {
          "base_uri": "https://localhost:8080/"
        },
        "id": "sTYfoRV3HCpy",
        "outputId": "c5f90528-df99-4259-9977-80b982fb2a7a"
      },
      "source": [
        "!wget https://bin.equinox.io/c/4VmDzA7iaHb/ngrok-stable-linux-amd64.zip\n",
        "!unzip -qq ngrok-stable-linux-amd64.zip"
      ],
      "execution_count": 3,
      "outputs": [
        {
          "output_type": "stream",
          "text": [
            "--2021-01-03 21:20:59--  https://bin.equinox.io/c/4VmDzA7iaHb/ngrok-stable-linux-amd64.zip\n",
            "Resolving bin.equinox.io (bin.equinox.io)... 52.205.86.27, 54.236.206.131, 34.232.108.170, ...\n",
            "Connecting to bin.equinox.io (bin.equinox.io)|52.205.86.27|:443... connected.\n",
            "HTTP request sent, awaiting response... 200 OK\n",
            "Length: 13773305 (13M) [application/octet-stream]\n",
            "Saving to: ‘ngrok-stable-linux-amd64.zip’\n",
            "\n",
            "ngrok-stable-linux- 100%[===================>]  13.13M  17.7MB/s    in 0.7s    \n",
            "\n",
            "2021-01-03 21:21:00 (17.7 MB/s) - ‘ngrok-stable-linux-amd64.zip’ saved [13773305/13773305]\n",
            "\n"
          ],
          "name": "stdout"
        }
      ]
    },
    {
      "cell_type": "code",
      "metadata": {
        "colab": {
          "base_uri": "https://localhost:8080/"
        },
        "id": "vzjiXYKwF0kU",
        "outputId": "f523fde0-e592-4e16-960b-c376a0149604"
      },
      "source": [
        "!./ngrok authtoken 1erYjsgIPKbjso8YZ7UiXgkuCn6_4k5cBL2Vqq6ceTeGhWj12\n",
        "get_ipython().system_raw('./ngrok http 8501 &')\n",
        "! curl -s http://localhost:4040/api/tunnels | python3 -c \\\n",
        "    \"import sys, json; print(json.load(sys.stdin))\""
      ],
      "execution_count": 5,
      "outputs": [
        {
          "output_type": "stream",
          "text": [
            "Authtoken saved to configuration file: /root/.ngrok2/ngrok.yml\n",
            "{'tunnels': [{'name': 'command_line', 'uri': '/api/tunnels/command_line', 'public_url': 'https://64c52fc2b161.ngrok.io', 'proto': 'https', 'config': {'addr': 'http://localhost:8501', 'inspect': True}, 'metrics': {'conns': {'count': 0, 'gauge': 0, 'rate1': 0, 'rate5': 0, 'rate15': 0, 'p50': 0, 'p90': 0, 'p95': 0, 'p99': 0}, 'http': {'count': 0, 'rate1': 0, 'rate5': 0, 'rate15': 0, 'p50': 0, 'p90': 0, 'p95': 0, 'p99': 0}}}, {'name': 'command_line (http)', 'uri': '/api/tunnels/command_line%20%28http%29', 'public_url': 'http://64c52fc2b161.ngrok.io', 'proto': 'http', 'config': {'addr': 'http://localhost:8501', 'inspect': True}, 'metrics': {'conns': {'count': 0, 'gauge': 0, 'rate1': 0, 'rate5': 0, 'rate15': 0, 'p50': 0, 'p90': 0, 'p95': 0, 'p99': 0}, 'http': {'count': 0, 'rate1': 0, 'rate5': 0, 'rate15': 0, 'p50': 0, 'p90': 0, 'p95': 0, 'p99': 0}}}], 'uri': '/api/tunnels'}\n"
          ],
          "name": "stdout"
        }
      ]
    },
    {
      "cell_type": "code",
      "metadata": {
        "colab": {
          "base_uri": "https://localhost:8080/"
        },
        "id": "m7-Z3Xy3Htxa",
        "outputId": "b1f5d310-9a57-4dff-8d25-f04a80270fbd"
      },
      "source": [
        "!git clone https://github.com/soumik12345/Youtube-DL\n",
        "%cd Youtube-DL/binary-classification"
      ],
      "execution_count": 6,
      "outputs": [
        {
          "output_type": "stream",
          "text": [
            "Cloning into 'Youtube-DL'...\n",
            "remote: Enumerating objects: 101, done.\u001b[K\n",
            "remote: Counting objects: 100% (101/101), done.\u001b[K\n",
            "remote: Compressing objects: 100% (63/63), done.\u001b[K\n",
            "remote: Total 101 (delta 46), reused 87 (delta 32), pack-reused 0\u001b[K\n",
            "Receiving objects: 100% (101/101), 1.25 MiB | 27.29 MiB/s, done.\n",
            "Resolving deltas: 100% (46/46), done.\n",
            "/content/Youtube-DL/binary-classification\n"
          ],
          "name": "stdout"
        }
      ]
    },
    {
      "cell_type": "code",
      "metadata": {
        "colab": {
          "base_uri": "https://localhost:8080/"
        },
        "id": "tp0SSspBF4jX",
        "outputId": "7dbb8476-8ffd-48c5-96ff-f08a2d88a4d5"
      },
      "source": [
        "!streamlit run app.py"
      ],
      "execution_count": null,
      "outputs": [
        {
          "output_type": "stream",
          "text": [
            "2021-01-03 21:22:21.571484: I tensorflow/stream_executor/platform/default/dso_loader.cc:49] Successfully opened dynamic library libcudart.so.10.1\n",
            "\u001b[0m\n",
            "\u001b[34m\u001b[1m  You can now view your Streamlit app in your browser.\u001b[0m\n",
            "\u001b[0m\n",
            "\u001b[34m  Network URL: \u001b[0m\u001b[1mhttp://172.28.0.2:8501\u001b[0m\n",
            "\u001b[34m  External URL: \u001b[0m\u001b[1mhttp://35.197.101.213:8501\u001b[0m\n",
            "\u001b[0m\n",
            "*[1-2]/*.jpg\n",
            "/content/*[1-2]/*.jpg\n",
            "2021-01-03 21:22:43.984887: I tensorflow/compiler/jit/xla_cpu_device.cc:41] Not creating XLA devices, tf_xla_enable_xla_devices not set\n",
            "2021-01-03 21:22:43.986385: I tensorflow/stream_executor/platform/default/dso_loader.cc:49] Successfully opened dynamic library libcuda.so.1\n",
            "2021-01-03 21:22:44.038494: I tensorflow/stream_executor/cuda/cuda_gpu_executor.cc:941] successful NUMA node read from SysFS had negative value (-1), but there must be at least one NUMA node, so returning NUMA node zero\n",
            "2021-01-03 21:22:44.039168: I tensorflow/core/common_runtime/gpu/gpu_device.cc:1720] Found device 0 with properties: \n",
            "pciBusID: 0000:00:04.0 name: Tesla T4 computeCapability: 7.5\n",
            "coreClock: 1.59GHz coreCount: 40 deviceMemorySize: 14.73GiB deviceMemoryBandwidth: 298.08GiB/s\n",
            "2021-01-03 21:22:44.039237: I tensorflow/stream_executor/platform/default/dso_loader.cc:49] Successfully opened dynamic library libcudart.so.10.1\n",
            "2021-01-03 21:22:44.245798: I tensorflow/stream_executor/platform/default/dso_loader.cc:49] Successfully opened dynamic library libcublas.so.10\n",
            "2021-01-03 21:22:44.245925: I tensorflow/stream_executor/platform/default/dso_loader.cc:49] Successfully opened dynamic library libcublasLt.so.10\n",
            "2021-01-03 21:22:44.387750: I tensorflow/stream_executor/platform/default/dso_loader.cc:49] Successfully opened dynamic library libcufft.so.10\n",
            "2021-01-03 21:22:44.405683: I tensorflow/stream_executor/platform/default/dso_loader.cc:49] Successfully opened dynamic library libcurand.so.10\n",
            "2021-01-03 21:22:44.687077: I tensorflow/stream_executor/platform/default/dso_loader.cc:49] Successfully opened dynamic library libcusolver.so.10\n",
            "2021-01-03 21:22:44.710776: I tensorflow/stream_executor/platform/default/dso_loader.cc:49] Successfully opened dynamic library libcusparse.so.10\n",
            "2021-01-03 21:22:45.239762: I tensorflow/stream_executor/platform/default/dso_loader.cc:49] Successfully opened dynamic library libcudnn.so.7\n",
            "2021-01-03 21:22:45.239989: I tensorflow/stream_executor/cuda/cuda_gpu_executor.cc:941] successful NUMA node read from SysFS had negative value (-1), but there must be at least one NUMA node, so returning NUMA node zero\n",
            "2021-01-03 21:22:45.240782: I tensorflow/stream_executor/cuda/cuda_gpu_executor.cc:941] successful NUMA node read from SysFS had negative value (-1), but there must be at least one NUMA node, so returning NUMA node zero\n",
            "2021-01-03 21:22:45.244440: I tensorflow/core/common_runtime/gpu/gpu_device.cc:1862] Adding visible gpu devices: 0\n",
            "2021-01-03 21:22:45.245670: I tensorflow/compiler/jit/xla_gpu_device.cc:99] Not creating XLA devices, tf_xla_enable_xla_devices not set\n",
            "2021-01-03 21:22:45.245871: I tensorflow/stream_executor/cuda/cuda_gpu_executor.cc:941] successful NUMA node read from SysFS had negative value (-1), but there must be at least one NUMA node, so returning NUMA node zero\n",
            "2021-01-03 21:22:45.246542: I tensorflow/core/common_runtime/gpu/gpu_device.cc:1720] Found device 0 with properties: \n",
            "pciBusID: 0000:00:04.0 name: Tesla T4 computeCapability: 7.5\n",
            "coreClock: 1.59GHz coreCount: 40 deviceMemorySize: 14.73GiB deviceMemoryBandwidth: 298.08GiB/s\n",
            "2021-01-03 21:22:45.246626: I tensorflow/stream_executor/platform/default/dso_loader.cc:49] Successfully opened dynamic library libcudart.so.10.1\n",
            "2021-01-03 21:22:45.246668: I tensorflow/stream_executor/platform/default/dso_loader.cc:49] Successfully opened dynamic library libcublas.so.10\n",
            "2021-01-03 21:22:45.246692: I tensorflow/stream_executor/platform/default/dso_loader.cc:49] Successfully opened dynamic library libcublasLt.so.10\n",
            "2021-01-03 21:22:45.246713: I tensorflow/stream_executor/platform/default/dso_loader.cc:49] Successfully opened dynamic library libcufft.so.10\n",
            "2021-01-03 21:22:45.246734: I tensorflow/stream_executor/platform/default/dso_loader.cc:49] Successfully opened dynamic library libcurand.so.10\n",
            "2021-01-03 21:22:45.246755: I tensorflow/stream_executor/platform/default/dso_loader.cc:49] Successfully opened dynamic library libcusolver.so.10\n",
            "2021-01-03 21:22:45.246777: I tensorflow/stream_executor/platform/default/dso_loader.cc:49] Successfully opened dynamic library libcusparse.so.10\n",
            "2021-01-03 21:22:45.246798: I tensorflow/stream_executor/platform/default/dso_loader.cc:49] Successfully opened dynamic library libcudnn.so.7\n",
            "2021-01-03 21:22:45.246881: I tensorflow/stream_executor/cuda/cuda_gpu_executor.cc:941] successful NUMA node read from SysFS had negative value (-1), but there must be at least one NUMA node, so returning NUMA node zero\n",
            "2021-01-03 21:22:45.247482: I tensorflow/stream_executor/cuda/cuda_gpu_executor.cc:941] successful NUMA node read from SysFS had negative value (-1), but there must be at least one NUMA node, so returning NUMA node zero\n",
            "2021-01-03 21:22:45.247995: I tensorflow/core/common_runtime/gpu/gpu_device.cc:1862] Adding visible gpu devices: 0\n",
            "2021-01-03 21:22:45.249489: I tensorflow/stream_executor/platform/default/dso_loader.cc:49] Successfully opened dynamic library libcudart.so.10.1\n",
            "2021-01-03 21:22:49.311669: I tensorflow/core/common_runtime/gpu/gpu_device.cc:1261] Device interconnect StreamExecutor with strength 1 edge matrix:\n",
            "2021-01-03 21:22:49.311739: I tensorflow/core/common_runtime/gpu/gpu_device.cc:1267]      0 \n",
            "2021-01-03 21:22:49.311753: I tensorflow/core/common_runtime/gpu/gpu_device.cc:1280] 0:   N \n",
            "2021-01-03 21:22:49.316271: I tensorflow/stream_executor/cuda/cuda_gpu_executor.cc:941] successful NUMA node read from SysFS had negative value (-1), but there must be at least one NUMA node, so returning NUMA node zero\n",
            "2021-01-03 21:22:49.317037: I tensorflow/stream_executor/cuda/cuda_gpu_executor.cc:941] successful NUMA node read from SysFS had negative value (-1), but there must be at least one NUMA node, so returning NUMA node zero\n",
            "2021-01-03 21:22:49.317707: I tensorflow/stream_executor/cuda/cuda_gpu_executor.cc:941] successful NUMA node read from SysFS had negative value (-1), but there must be at least one NUMA node, so returning NUMA node zero\n",
            "2021-01-03 21:22:49.318297: W tensorflow/core/common_runtime/gpu/gpu_bfc_allocator.cc:39] Overriding allow_growth setting because the TF_FORCE_GPU_ALLOW_GROWTH environment variable is set. Original config value was 0.\n",
            "2021-01-03 21:22:49.318396: I tensorflow/core/common_runtime/gpu/gpu_device.cc:1406] Created TensorFlow device (/job:localhost/replica:0/task:0/device:GPU:0 with 13960 MB memory) -> physical GPU (device: 0, name: Tesla T4, pci bus id: 0000:00:04.0, compute capability: 7.5)\n",
            "/content/kaggle_bee_vs_wasp/*[1-2]/*.jpg\n",
            "Model: \"noob_model\"\n",
            "_________________________________________________________________\n",
            "Layer (type)                 Output Shape              Param #   \n",
            "=================================================================\n",
            "rescaling (Rescaling)        multiple                  0         \n",
            "_________________________________________________________________\n",
            "conv2d (Conv2D)              multiple                  896       \n",
            "_________________________________________________________________\n",
            "conv2d_1 (Conv2D)            multiple                  9248      \n",
            "_________________________________________________________________\n",
            "conv2d_2 (Conv2D)            multiple                  9248      \n",
            "_________________________________________________________________\n",
            "max_pooling2d (MaxPooling2D) multiple                  0         \n",
            "_________________________________________________________________\n",
            "max_pooling2d_1 (MaxPooling2 multiple                  0         \n",
            "_________________________________________________________________\n",
            "max_pooling2d_2 (MaxPooling2 multiple                  0         \n",
            "_________________________________________________________________\n",
            "flatten (Flatten)            multiple                  0         \n",
            "_________________________________________________________________\n",
            "dense (Dense)                multiple                  3686528   \n",
            "_________________________________________________________________\n",
            "dense_1 (Dense)              multiple                  129       \n",
            "=================================================================\n",
            "Total params: 3,706,049\n",
            "Trainable params: 3,706,049\n",
            "Non-trainable params: 0\n",
            "_________________________________________________________________\n",
            "/content/kaggle_bee_vs_wasp/*[1-2]/*.jpg\n",
            "Number of images: 8125\n",
            "['wasp', 'bee']\n",
            "Filename: b'/content/kaggle_bee_vs_wasp/wasp1/1627322443_b9a5f4f3e0_n.jpg'\n",
            "Label: wasp\n",
            "\n",
            "\n",
            "Filename: b'/content/kaggle_bee_vs_wasp/bee1/14706520715_f472aafeb8_n.jpg'\n",
            "Label: bee\n",
            "\n",
            "\n",
            "Filename: b'/content/kaggle_bee_vs_wasp/bee2/P12347-37r.jpg'\n",
            "Label: bee\n",
            "\n",
            "\n",
            "Filename: b'/content/kaggle_bee_vs_wasp/bee1/23468968398_6e157b12ff_n.jpg'\n",
            "Label: bee\n",
            "\n",
            "\n",
            "Filename: b'/content/kaggle_bee_vs_wasp/wasp2/H00150.jpg'\n",
            "Label: wasp\n",
            "\n",
            "\n",
            "<PrefetchDataset shapes: ((None, 256, 256, 3), (None,)), types: (tf.float32, tf.int32)>\n",
            "<PrefetchDataset shapes: ((None, 256, 256, 3), (None,)), types: (tf.float32, tf.int32)>\n",
            "<PrefetchDataset shapes: ((None, 256, 256, 3), (None,)), types: (tf.float32, tf.int32)>\n",
            "2021-01-03 21:23:15.099513: I tensorflow/compiler/mlir/mlir_graph_optimization_pass.cc:116] None of the MLIR optimization passes are enabled (registered 2)\n",
            "2021-01-03 21:23:15.102261: I tensorflow/core/platform/profile_utils/cpu_utils.cc:112] CPU Frequency: 2199995000 Hz\n",
            "2021-01-03 21:23:17.107275: W tensorflow/core/kernels/data/cache_dataset_ops.cc:757] The calling iterator did not fully read the dataset being cached. In order to avoid unexpected truncation of the dataset, the partially cached contents of the dataset will be discarded. This can happen if you have an input pipeline similar to `dataset.cache().take(k).repeat()`. You should use `dataset.take(k).cache().repeat()` instead.\n",
            "Model: \"noob_model_1\"\n",
            "_________________________________________________________________\n",
            "Layer (type)                 Output Shape              Param #   \n",
            "=================================================================\n",
            "rescaling_1 (Rescaling)      multiple                  0         \n",
            "_________________________________________________________________\n",
            "conv2d_3 (Conv2D)            multiple                  896       \n",
            "_________________________________________________________________\n",
            "conv2d_4 (Conv2D)            multiple                  9248      \n",
            "_________________________________________________________________\n",
            "conv2d_5 (Conv2D)            multiple                  9248      \n",
            "_________________________________________________________________\n",
            "max_pooling2d_3 (MaxPooling2 multiple                  0         \n",
            "_________________________________________________________________\n",
            "max_pooling2d_4 (MaxPooling2 multiple                  0         \n",
            "_________________________________________________________________\n",
            "max_pooling2d_5 (MaxPooling2 multiple                  0         \n",
            "_________________________________________________________________\n",
            "flatten_1 (Flatten)          multiple                  0         \n",
            "_________________________________________________________________\n",
            "dense_2 (Dense)              multiple                  3686528   \n",
            "_________________________________________________________________\n",
            "dense_3 (Dense)              multiple                  129       \n",
            "=================================================================\n",
            "Total params: 3,706,049\n",
            "Trainable params: 3,706,049\n",
            "Non-trainable params: 0\n",
            "_________________________________________________________________\n",
            "/content/kaggle_bee_vs_wasp/*[1-2]/*.jpg\n",
            "Number of images: 8125\n",
            "['wasp', 'bee']\n",
            "Filename: b'/content/kaggle_bee_vs_wasp/bee1/42342300322_f7bfb0f4e4_n.jpg'\n",
            "Label: bee\n",
            "\n",
            "\n",
            "Filename: b'/content/kaggle_bee_vs_wasp/bee2/P12344-172r.jpg'\n",
            "Label: bee\n",
            "\n",
            "\n",
            "Filename: b'/content/kaggle_bee_vs_wasp/wasp2/J00162.jpg'\n",
            "Label: wasp\n",
            "\n",
            "\n",
            "Filename: b'/content/kaggle_bee_vs_wasp/bee1/28252308193_a69f9f5c08_w.jpg'\n",
            "Label: bee\n",
            "\n",
            "\n",
            "Filename: b'/content/kaggle_bee_vs_wasp/wasp1/4796450560_a866d8fd92_n.jpg'\n",
            "Label: wasp\n",
            "\n",
            "\n",
            "<PrefetchDataset shapes: ((None, 256, 256, 3), (None,)), types: (tf.float32, tf.int32)>\n",
            "<PrefetchDataset shapes: ((None, 256, 256, 3), (None,)), types: (tf.float32, tf.int32)>\n",
            "<PrefetchDataset shapes: ((None, 256, 256, 3), (None,)), types: (tf.float32, tf.int32)>\n",
            "2021-01-03 21:23:41.584543: W tensorflow/core/kernels/data/cache_dataset_ops.cc:757] The calling iterator did not fully read the dataset being cached. In order to avoid unexpected truncation of the dataset, the partially cached contents of the dataset will be discarded. This can happen if you have an input pipeline similar to `dataset.cache().take(k).repeat()`. You should use `dataset.take(k).cache().repeat()` instead.\n",
            "Model: \"noob_model\"\n",
            "_________________________________________________________________\n",
            "Layer (type)                 Output Shape              Param #   \n",
            "=================================================================\n",
            "rescaling (Rescaling)        multiple                  0         \n",
            "_________________________________________________________________\n",
            "conv2d (Conv2D)              multiple                  896       \n",
            "_________________________________________________________________\n",
            "conv2d_1 (Conv2D)            multiple                  9248      \n",
            "_________________________________________________________________\n",
            "conv2d_2 (Conv2D)            multiple                  9248      \n",
            "_________________________________________________________________\n",
            "max_pooling2d (MaxPooling2D) multiple                  0         \n",
            "_________________________________________________________________\n",
            "max_pooling2d_1 (MaxPooling2 multiple                  0         \n",
            "_________________________________________________________________\n",
            "max_pooling2d_2 (MaxPooling2 multiple                  0         \n",
            "_________________________________________________________________\n",
            "flatten (Flatten)            multiple                  0         \n",
            "_________________________________________________________________\n",
            "dense (Dense)                multiple                  3686528   \n",
            "_________________________________________________________________\n",
            "dense_1 (Dense)              multiple                  129       \n",
            "=================================================================\n",
            "Total params: 3,706,049\n",
            "Trainable params: 3,706,049\n",
            "Non-trainable params: 0\n",
            "_________________________________________________________________\n",
            "2021-01-03 21:23:46.187979: I tensorflow/core/profiler/lib/profiler_session.cc:136] Profiler session initializing.\n",
            "2021-01-03 21:23:46.188028: I tensorflow/core/profiler/lib/profiler_session.cc:155] Profiler session started.\n",
            "2021-01-03 21:23:46.188065: I tensorflow/core/profiler/internal/gpu/cupti_tracer.cc:1365] Profiler found 1 GPUs\n",
            "2021-01-03 21:23:46.217375: I tensorflow/stream_executor/platform/default/dso_loader.cc:49] Successfully opened dynamic library libcupti.so.10.1\n",
            "2021-01-03 21:23:46.378413: I tensorflow/core/profiler/lib/profiler_session.cc:172] Profiler session tear down.\n",
            "2021-01-03 21:23:46.378577: I tensorflow/core/profiler/internal/gpu/cupti_tracer.cc:1487] CUPTI activity buffer flushed\n",
            "Epoch 1/10\n",
            "2021-01-03 21:23:47.077285: I tensorflow/stream_executor/platform/default/dso_loader.cc:49] Successfully opened dynamic library libcublas.so.10\n",
            "2021-01-03 21:23:49.139422: I tensorflow/stream_executor/platform/default/dso_loader.cc:49] Successfully opened dynamic library libcudnn.so.7\n",
            "  1/407 [..............................] - ETA: 54:57 - loss: 0.6712 - accuracy: 0.31252021-01-03 21:23:54.552119: I tensorflow/core/profiler/lib/profiler_session.cc:136] Profiler session initializing.\n",
            "2021-01-03 21:23:54.552181: I tensorflow/core/profiler/lib/profiler_session.cc:155] Profiler session started.\n",
            "  2/407 [..............................] - ETA: 21s - loss: 2.2417 - accuracy: 0.3125  2021-01-03 21:23:54.594894: I tensorflow/core/profiler/lib/profiler_session.cc:71] Profiler session collecting data.\n",
            "2021-01-03 21:23:54.595385: I tensorflow/core/profiler/internal/gpu/cupti_tracer.cc:1487] CUPTI activity buffer flushed\n",
            "2021-01-03 21:23:54.596941: I tensorflow/core/profiler/internal/gpu/cupti_collector.cc:228]  GpuTracer has collected 153 callback api events and 141 activity events. \n",
            "2021-01-03 21:23:54.601047: I tensorflow/core/profiler/lib/profiler_session.cc:172] Profiler session tear down.\n",
            "2021-01-03 21:23:54.613467: I tensorflow/core/profiler/rpc/client/save_profile.cc:137] Creating directory: logs/fit/20210103-212346/train/plugins/profile/2021_01_03_21_23_54\n",
            "2021-01-03 21:23:54.617844: I tensorflow/core/profiler/rpc/client/save_profile.cc:143] Dumped gzipped tool data for trace.json.gz to logs/fit/20210103-212346/train/plugins/profile/2021_01_03_21_23_54/f9722f72489d.trace.json.gz\n",
            "2021-01-03 21:23:54.629482: I tensorflow/core/profiler/rpc/client/save_profile.cc:137] Creating directory: logs/fit/20210103-212346/train/plugins/profile/2021_01_03_21_23_54\n",
            "2021-01-03 21:23:54.630624: I tensorflow/core/profiler/rpc/client/save_profile.cc:143] Dumped gzipped tool data for memory_profile.json.gz to logs/fit/20210103-212346/train/plugins/profile/2021_01_03_21_23_54/f9722f72489d.memory_profile.json.gz\n",
            "2021-01-03 21:23:54.631031: I tensorflow/core/profiler/rpc/client/capture_profile.cc:251] Creating directory: logs/fit/20210103-212346/train/plugins/profile/2021_01_03_21_23_54Dumped tool data for xplane.pb to logs/fit/20210103-212346/train/plugins/profile/2021_01_03_21_23_54/f9722f72489d.xplane.pb\n",
            "Dumped tool data for overview_page.pb to logs/fit/20210103-212346/train/plugins/profile/2021_01_03_21_23_54/f9722f72489d.overview_page.pb\n",
            "Dumped tool data for input_pipeline.pb to logs/fit/20210103-212346/train/plugins/profile/2021_01_03_21_23_54/f9722f72489d.input_pipeline.pb\n",
            "Dumped tool data for tensorflow_stats.pb to logs/fit/20210103-212346/train/plugins/profile/2021_01_03_21_23_54/f9722f72489d.tensorflow_stats.pb\n",
            "Dumped tool data for kernel_stats.pb to logs/fit/20210103-212346/train/plugins/profile/2021_01_03_21_23_54/f9722f72489d.kernel_stats.pb\n",
            "\n",
            "407/407 [==============================] - 27s 46ms/step - loss: 0.6367 - accuracy: 0.7026 - val_loss: 0.3907 - val_accuracy: 0.8292\n",
            "Epoch 2/10\n",
            "407/407 [==============================] - 11s 27ms/step - loss: 0.3661 - accuracy: 0.8473 - val_loss: 0.3216 - val_accuracy: 0.8623\n",
            "Epoch 3/10\n",
            "407/407 [==============================] - 11s 27ms/step - loss: 0.3372 - accuracy: 0.8572 - val_loss: 0.3003 - val_accuracy: 0.8762\n",
            "Epoch 4/10\n",
            "407/407 [==============================] - 11s 27ms/step - loss: 0.2942 - accuracy: 0.8778 - val_loss: 0.2806 - val_accuracy: 0.8862\n",
            "Epoch 5/10\n",
            "407/407 [==============================] - 11s 27ms/step - loss: 0.2214 - accuracy: 0.9076 - val_loss: 0.2936 - val_accuracy: 0.8954\n",
            "Epoch 6/10\n",
            "407/407 [==============================] - 11s 27ms/step - loss: 0.1859 - accuracy: 0.9308 - val_loss: 0.4430 - val_accuracy: 0.8746\n",
            "Epoch 7/10\n",
            "407/407 [==============================] - 11s 27ms/step - loss: 0.1365 - accuracy: 0.9483 - val_loss: 0.4606 - val_accuracy: 0.8723\n",
            "Epoch 8/10\n",
            "407/407 [==============================] - 11s 27ms/step - loss: 0.0893 - accuracy: 0.9667 - val_loss: 0.4529 - val_accuracy: 0.8815\n",
            "Epoch 9/10\n",
            "407/407 [==============================] - 11s 27ms/step - loss: 0.0588 - accuracy: 0.9838 - val_loss: 0.5023 - val_accuracy: 0.8908\n",
            "Epoch 10/10\n",
            "407/407 [==============================] - 11s 27ms/step - loss: 0.0536 - accuracy: 0.9805 - val_loss: 0.5219 - val_accuracy: 0.8746\n",
            "407/407 [==============================] - 4s 10ms/step - loss: 0.2055 - accuracy: 0.9147\n",
            "82/82 [==============================] - 1s 10ms/step - loss: 0.2806 - accuracy: 0.8862\n",
            "21/21 [==============================] - 1s 11ms/step - loss: 0.3310 - accuracy: 0.8585\n",
            "['wasp', 'bee']\n",
            "2021-01-03 21:26:21.396 Unresolved object in checkpoint: (root).optimizer.iter\n",
            "2021-01-03 21:26:21.396 Unresolved object in checkpoint: (root).optimizer.beta_1\n",
            "2021-01-03 21:26:21.396 Unresolved object in checkpoint: (root).optimizer.beta_2\n",
            "2021-01-03 21:26:21.396 Unresolved object in checkpoint: (root).optimizer.decay\n",
            "2021-01-03 21:26:21.396 Unresolved object in checkpoint: (root).optimizer.learning_rate\n",
            "2021-01-03 21:26:21.396 Unresolved object in checkpoint: (root).optimizer's state 'm' for (root).conv_layer_1.kernel\n",
            "2021-01-03 21:26:21.396 Unresolved object in checkpoint: (root).optimizer's state 'm' for (root).conv_layer_1.bias\n",
            "2021-01-03 21:26:21.396 Unresolved object in checkpoint: (root).optimizer's state 'm' for (root).conv_layer_2.kernel\n",
            "2021-01-03 21:26:21.396 Unresolved object in checkpoint: (root).optimizer's state 'm' for (root).conv_layer_2.bias\n",
            "2021-01-03 21:26:21.396 Unresolved object in checkpoint: (root).optimizer's state 'm' for (root).conv_layer_3.kernel\n",
            "2021-01-03 21:26:21.396 Unresolved object in checkpoint: (root).optimizer's state 'm' for (root).conv_layer_3.bias\n",
            "2021-01-03 21:26:21.396 Unresolved object in checkpoint: (root).optimizer's state 'm' for (root).hidden_layer.kernel\n",
            "2021-01-03 21:26:21.396 Unresolved object in checkpoint: (root).optimizer's state 'm' for (root).hidden_layer.bias\n",
            "2021-01-03 21:26:21.396 Unresolved object in checkpoint: (root).optimizer's state 'm' for (root).output_layer.kernel\n",
            "2021-01-03 21:26:21.396 Unresolved object in checkpoint: (root).optimizer's state 'm' for (root).output_layer.bias\n",
            "2021-01-03 21:26:21.396 Unresolved object in checkpoint: (root).optimizer's state 'v' for (root).conv_layer_1.kernel\n",
            "2021-01-03 21:26:21.396 Unresolved object in checkpoint: (root).optimizer's state 'v' for (root).conv_layer_1.bias\n",
            "2021-01-03 21:26:21.396 Unresolved object in checkpoint: (root).optimizer's state 'v' for (root).conv_layer_2.kernel\n",
            "2021-01-03 21:26:21.396 Unresolved object in checkpoint: (root).optimizer's state 'v' for (root).conv_layer_2.bias\n",
            "2021-01-03 21:26:21.397 Unresolved object in checkpoint: (root).optimizer's state 'v' for (root).conv_layer_3.kernel\n",
            "2021-01-03 21:26:21.397 Unresolved object in checkpoint: (root).optimizer's state 'v' for (root).conv_layer_3.bias\n",
            "2021-01-03 21:26:21.397 Unresolved object in checkpoint: (root).optimizer's state 'v' for (root).hidden_layer.kernel\n",
            "2021-01-03 21:26:21.397 Unresolved object in checkpoint: (root).optimizer's state 'v' for (root).hidden_layer.bias\n",
            "2021-01-03 21:26:21.397 Unresolved object in checkpoint: (root).optimizer's state 'v' for (root).output_layer.kernel\n",
            "2021-01-03 21:26:21.397 Unresolved object in checkpoint: (root).optimizer's state 'v' for (root).output_layer.bias\n",
            "2021-01-03 21:26:21.397 A checkpoint was restored (e.g. tf.train.Checkpoint.restore or tf.keras.Model.load_weights) but not all checkpointed values were used. See above for specific issues. Use expect_partial() on the load status object, e.g. tf.train.Checkpoint.restore(...).expect_partial(), to silence these warnings, or use assert_consumed() to make the check explicit. See https://www.tensorflow.org/guide/checkpoint#loading_mechanics for details.\n",
            "['wasp', 'bee']\n",
            "2021-01-03 21:26:49.167 Unresolved object in checkpoint: (root).optimizer.iter\n",
            "2021-01-03 21:26:49.167 Unresolved object in checkpoint: (root).optimizer.beta_1\n",
            "2021-01-03 21:26:49.167 Unresolved object in checkpoint: (root).optimizer.beta_2\n",
            "2021-01-03 21:26:49.168 Unresolved object in checkpoint: (root).optimizer.decay\n",
            "2021-01-03 21:26:49.168 Unresolved object in checkpoint: (root).optimizer.learning_rate\n",
            "2021-01-03 21:26:49.168 Unresolved object in checkpoint: (root).optimizer's state 'm' for (root).conv_layer_1.kernel\n",
            "2021-01-03 21:26:49.168 Unresolved object in checkpoint: (root).optimizer's state 'm' for (root).conv_layer_1.bias\n",
            "2021-01-03 21:26:49.168 Unresolved object in checkpoint: (root).optimizer's state 'm' for (root).conv_layer_2.kernel\n",
            "2021-01-03 21:26:49.168 Unresolved object in checkpoint: (root).optimizer's state 'm' for (root).conv_layer_2.bias\n",
            "2021-01-03 21:26:49.168 Unresolved object in checkpoint: (root).optimizer's state 'm' for (root).conv_layer_3.kernel\n",
            "2021-01-03 21:26:49.168 Unresolved object in checkpoint: (root).optimizer's state 'm' for (root).conv_layer_3.bias\n",
            "2021-01-03 21:26:49.168 Unresolved object in checkpoint: (root).optimizer's state 'm' for (root).hidden_layer.kernel\n",
            "2021-01-03 21:26:49.168 Unresolved object in checkpoint: (root).optimizer's state 'm' for (root).hidden_layer.bias\n",
            "2021-01-03 21:26:49.168 Unresolved object in checkpoint: (root).optimizer's state 'm' for (root).output_layer.kernel\n",
            "2021-01-03 21:26:49.168 Unresolved object in checkpoint: (root).optimizer's state 'm' for (root).output_layer.bias\n",
            "2021-01-03 21:26:49.168 Unresolved object in checkpoint: (root).optimizer's state 'v' for (root).conv_layer_1.kernel\n",
            "2021-01-03 21:26:49.168 Unresolved object in checkpoint: (root).optimizer's state 'v' for (root).conv_layer_1.bias\n",
            "2021-01-03 21:26:49.168 Unresolved object in checkpoint: (root).optimizer's state 'v' for (root).conv_layer_2.kernel\n",
            "2021-01-03 21:26:49.168 Unresolved object in checkpoint: (root).optimizer's state 'v' for (root).conv_layer_2.bias\n",
            "2021-01-03 21:26:49.168 Unresolved object in checkpoint: (root).optimizer's state 'v' for (root).conv_layer_3.kernel\n",
            "2021-01-03 21:26:49.168 Unresolved object in checkpoint: (root).optimizer's state 'v' for (root).conv_layer_3.bias\n",
            "2021-01-03 21:26:49.168 Unresolved object in checkpoint: (root).optimizer's state 'v' for (root).hidden_layer.kernel\n",
            "2021-01-03 21:26:49.168 Unresolved object in checkpoint: (root).optimizer's state 'v' for (root).hidden_layer.bias\n",
            "2021-01-03 21:26:49.168 Unresolved object in checkpoint: (root).optimizer's state 'v' for (root).output_layer.kernel\n",
            "2021-01-03 21:26:49.168 Unresolved object in checkpoint: (root).optimizer's state 'v' for (root).output_layer.bias\n",
            "2021-01-03 21:26:49.168 A checkpoint was restored (e.g. tf.train.Checkpoint.restore or tf.keras.Model.load_weights) but not all checkpointed values were used. See above for specific issues. Use expect_partial() on the load status object, e.g. tf.train.Checkpoint.restore(...).expect_partial(), to silence these warnings, or use assert_consumed() to make the check explicit. See https://www.tensorflow.org/guide/checkpoint#loading_mechanics for details.\n",
            "2021-01-03 21:26:50.069 Unresolved object in checkpoint: (root).optimizer.iter\n",
            "2021-01-03 21:26:50.069 Unresolved object in checkpoint: (root).optimizer.beta_1\n",
            "2021-01-03 21:26:50.069 Unresolved object in checkpoint: (root).optimizer.beta_2\n",
            "2021-01-03 21:26:50.069 Unresolved object in checkpoint: (root).optimizer.decay\n",
            "2021-01-03 21:26:50.069 Unresolved object in checkpoint: (root).optimizer.learning_rate\n",
            "2021-01-03 21:26:50.069 Unresolved object in checkpoint: (root).optimizer's state 'm' for (root).conv_layer_1.kernel\n",
            "2021-01-03 21:26:50.069 Unresolved object in checkpoint: (root).optimizer's state 'm' for (root).conv_layer_1.bias\n",
            "2021-01-03 21:26:50.069 Unresolved object in checkpoint: (root).optimizer's state 'm' for (root).conv_layer_2.kernel\n",
            "2021-01-03 21:26:50.069 Unresolved object in checkpoint: (root).optimizer's state 'm' for (root).conv_layer_2.bias\n",
            "2021-01-03 21:26:50.069 Unresolved object in checkpoint: (root).optimizer's state 'm' for (root).conv_layer_3.kernel\n",
            "2021-01-03 21:26:50.069 Unresolved object in checkpoint: (root).optimizer's state 'm' for (root).conv_layer_3.bias\n",
            "2021-01-03 21:26:50.069 Unresolved object in checkpoint: (root).optimizer's state 'm' for (root).hidden_layer.kernel\n",
            "2021-01-03 21:26:50.070 Unresolved object in checkpoint: (root).optimizer's state 'm' for (root).hidden_layer.bias\n",
            "2021-01-03 21:26:50.070 Unresolved object in checkpoint: (root).optimizer's state 'm' for (root).output_layer.kernel\n",
            "2021-01-03 21:26:50.070 Unresolved object in checkpoint: (root).optimizer's state 'm' for (root).output_layer.bias\n",
            "2021-01-03 21:26:50.070 Unresolved object in checkpoint: (root).optimizer's state 'v' for (root).conv_layer_1.kernel\n",
            "2021-01-03 21:26:50.070 Unresolved object in checkpoint: (root).optimizer's state 'v' for (root).conv_layer_1.bias\n",
            "2021-01-03 21:26:50.070 Unresolved object in checkpoint: (root).optimizer's state 'v' for (root).conv_layer_2.kernel\n",
            "2021-01-03 21:26:50.070 Unresolved object in checkpoint: (root).optimizer's state 'v' for (root).conv_layer_2.bias\n",
            "2021-01-03 21:26:50.070 Unresolved object in checkpoint: (root).optimizer's state 'v' for (root).conv_layer_3.kernel\n",
            "2021-01-03 21:26:50.070 Unresolved object in checkpoint: (root).optimizer's state 'v' for (root).conv_layer_3.bias\n",
            "2021-01-03 21:26:50.070 Unresolved object in checkpoint: (root).optimizer's state 'v' for (root).hidden_layer.kernel\n",
            "2021-01-03 21:26:50.070 Unresolved object in checkpoint: (root).optimizer's state 'v' for (root).hidden_layer.bias\n",
            "2021-01-03 21:26:50.070 Unresolved object in checkpoint: (root).optimizer's state 'v' for (root).output_layer.kernel\n",
            "2021-01-03 21:26:50.070 Unresolved object in checkpoint: (root).optimizer's state 'v' for (root).output_layer.bias\n",
            "2021-01-03 21:26:50.070 A checkpoint was restored (e.g. tf.train.Checkpoint.restore or tf.keras.Model.load_weights) but not all checkpointed values were used. See above for specific issues. Use expect_partial() on the load status object, e.g. tf.train.Checkpoint.restore(...).expect_partial(), to silence these warnings, or use assert_consumed() to make the check explicit. See https://www.tensorflow.org/guide/checkpoint#loading_mechanics for details.\n"
          ],
          "name": "stdout"
        }
      ]
    },
    {
      "cell_type": "code",
      "metadata": {
        "id": "pHhYSKPnGB6z"
      },
      "source": [
        ""
      ],
      "execution_count": null,
      "outputs": []
    }
  ]
}